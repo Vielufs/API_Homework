{
 "cells": [
  {
   "cell_type": "markdown",
   "metadata": {},
   "source": [
    "# Unit 5 - Financial Planning\n"
   ]
  },
  {
   "cell_type": "code",
   "execution_count": 27,
   "metadata": {},
   "outputs": [],
   "source": [
    "# Initial imports\n",
    "import os\n",
    "import requests\n",
    "import pandas as pd\n",
    "from dotenv import load_dotenv\n",
    "import alpaca_trade_api as tradeapi\n",
    "from MCForecastTools import MCSimulation\n",
    "\n",
    "%matplotlib inline"
   ]
  },
  {
   "cell_type": "code",
   "execution_count": 2,
   "metadata": {},
   "outputs": [
    {
     "data": {
      "text/plain": [
       "True"
      ]
     },
     "execution_count": 2,
     "metadata": {},
     "output_type": "execute_result"
    }
   ],
   "source": [
    "# Load .env enviroment variables\n",
    "load_dotenv(\"keys.env\")"
   ]
  },
  {
   "cell_type": "markdown",
   "metadata": {},
   "source": [
    "## Part 1 - Personal Finance Planner"
   ]
  },
  {
   "cell_type": "markdown",
   "metadata": {},
   "source": [
    "### Collect Crypto Prices Using the `requests` Library"
   ]
  },
  {
   "cell_type": "code",
   "execution_count": 3,
   "metadata": {},
   "outputs": [],
   "source": [
    "# Set current amount of crypto assets\n",
    "crypo_amounts = {\n",
    "    \"amounts\":[1.2,5.3]\n",
    "}"
   ]
  },
  {
   "cell_type": "code",
   "execution_count": 4,
   "metadata": {},
   "outputs": [],
   "source": [
    "# Crypto API URLs\n",
    "btc_url = \"https://api.alternative.me/v2/ticker/Bitcoin/?convert=USD\"\n",
    "eth_url = \"https://api.alternative.me/v2/ticker/Ethereum/?convert=USD\""
   ]
  },
  {
   "cell_type": "code",
   "execution_count": 5,
   "metadata": {},
   "outputs": [
    {
     "name": "stdout",
     "output_type": "stream",
     "text": [
      "The current value of your 1.2 BTC is $38198.40\n",
      "The current value of your 5.3 ETH is $7174.13\n"
     ]
    }
   ],
   "source": [
    "# Fetch current BTC price\n",
    "BTC_response_data=requests.get(btc_url)\n",
    "BTC_data=BTC_response_data.json()\n",
    "BTC_price=float(BTC_data[\"data\"][\"1\"]['quotes'][\"USD\"]['price'])\n",
    "# Fetch current ETH price\n",
    "ETH_response_data=requests.get(eth_url)\n",
    "ETH_data=ETH_response_data.json()\n",
    "ETH_price=float(ETH_data[\"data\"][\"1027\"]['quotes'][\"USD\"]['price'])\n",
    "# Compute current value of my crpto\n",
    "my_btc=crypo_amounts[\"amounts\"][0]\n",
    "my_eth=crypo_amounts[\"amounts\"][1]\n",
    "my_btc_value = my_btc * BTC_price\n",
    "my_eth_value = my_eth * ETH_price\n",
    "# Print current crypto wallet balance\n",
    "print(f\"The current value of your {my_btc} BTC is ${my_btc_value:0.2f}\")\n",
    "print(f\"The current value of your {my_eth} ETH is ${my_eth_value:0.2f}\")"
   ]
  },
  {
   "cell_type": "markdown",
   "metadata": {},
   "source": [
    "### Collect Investments Data Using Alpaca: `SPY` (stocks) and `AGG` (bonds)"
   ]
  },
  {
   "cell_type": "code",
   "execution_count": 6,
   "metadata": {},
   "outputs": [],
   "source": [
    "# Current amount of shares\n",
    "my_spy =50\n",
    "my_agg = 200"
   ]
  },
  {
   "cell_type": "code",
   "execution_count": 7,
   "metadata": {},
   "outputs": [],
   "source": [
    "# Set Alpaca API key and secret\n",
    "alpaca_api_key = os.getenv(\"ALPACA_API_KEY\")\n",
    "alpaca_secret_key = os.getenv(\"ALPACA_SECRET_KEY\")\n",
    "\n",
    "# Create the Alpaca API object\n",
    "alpaca = tradeapi.REST(\n",
    "    alpaca_api_key,\n",
    "    alpaca_secret_key,\n",
    "    api_version=\"v2\")"
   ]
  },
  {
   "cell_type": "code",
   "execution_count": 8,
   "metadata": {},
   "outputs": [
    {
     "data": {
      "text/html": [
       "<div>\n",
       "<style scoped>\n",
       "    .dataframe tbody tr th:only-of-type {\n",
       "        vertical-align: middle;\n",
       "    }\n",
       "\n",
       "    .dataframe tbody tr th {\n",
       "        vertical-align: top;\n",
       "    }\n",
       "\n",
       "    .dataframe thead th {\n",
       "        text-align: right;\n",
       "    }\n",
       "</style>\n",
       "<table border=\"1\" class=\"dataframe\">\n",
       "  <thead>\n",
       "    <tr style=\"text-align: right;\">\n",
       "      <th></th>\n",
       "      <th>AGG</th>\n",
       "      <th>SPY</th>\n",
       "    </tr>\n",
       "  </thead>\n",
       "  <tbody>\n",
       "    <tr>\n",
       "      <th>2020-01-22</th>\n",
       "      <td>113.44</td>\n",
       "      <td>331.39</td>\n",
       "    </tr>\n",
       "  </tbody>\n",
       "</table>\n",
       "</div>"
      ],
      "text/plain": [
       "               AGG     SPY\n",
       "2020-01-22  113.44  331.39"
      ]
     },
     "execution_count": 8,
     "metadata": {},
     "output_type": "execute_result"
    }
   ],
   "source": [
    "# Format current date as ISO format\n",
    "start_day= pd.Timestamp(\"2020-01-22\",tz=\"America/New_York\").isoformat()\n",
    "end_day= pd.Timestamp('2020-01-22',tz=\"America/New_York\").isoformat()\n",
    "# Set the tickers\n",
    "tickers = [\"AGG\", \"SPY\"]\n",
    "\n",
    "# Set timeframe to '1D' for Alpaca API\n",
    "timeframe = \"1D\"\n",
    "\n",
    "# Get current closing prices for SPY and AGG\n",
    "spy_agg_df= alpaca.get_barset(\n",
    "    tickers,\n",
    "    timeframe,\n",
    "    start = start_day,\n",
    "    end = end_day\n",
    ").df\n",
    "\n",
    "# Using a for loop to just get the closing price in a dataframe\n",
    "spy_agg_close_df=pd.DataFrame()\n",
    "for ticker in tickers:\n",
    "    spy_agg_close_df[ticker]=spy_agg_df[ticker]['close']\n",
    "    \n",
    "# Set the date as an index\n",
    "spy_agg_close_df.index=spy_agg_close_df.index.date\n",
    "# Preview DataFrame\n",
    "spy_agg_close_df.head()"
   ]
  },
  {
   "cell_type": "code",
   "execution_count": 9,
   "metadata": {},
   "outputs": [
    {
     "name": "stdout",
     "output_type": "stream",
     "text": [
      "Current AGG closing price: $113.44\n",
      "Current SPY closing price: $331.39\n"
     ]
    }
   ],
   "source": [
    "# Pick AGG and SPY close prices\n",
    "agg_close_price = spy_agg_close_df['AGG'][0]\n",
    "spy_close_price = spy_agg_close_df['SPY'][0]\n",
    "# Print AGG and SPY close prices\n",
    "print(f\"Current AGG closing price: ${agg_close_price}\")\n",
    "print(f\"Current SPY closing price: ${spy_close_price}\")"
   ]
  },
  {
   "cell_type": "code",
   "execution_count": 10,
   "metadata": {},
   "outputs": [
    {
     "name": "stdout",
     "output_type": "stream",
     "text": [
      "The current value of your 50 SPY shares is $16569.50\n",
      "The current value of your 200 AGG shares is $22688.00\n"
     ]
    }
   ],
   "source": [
    "# Compute the current value of shares\n",
    "my_agg_value = my_agg*agg_close_price\n",
    "my_spy_value = my_spy*spy_close_price\n",
    "# Print current value of share\n",
    "print(f\"The current value of your {my_spy} SPY shares is ${my_spy_value:0.2f}\")\n",
    "print(f\"The current value of your {my_agg} AGG shares is ${my_agg_value:0.2f}\")"
   ]
  },
  {
   "cell_type": "markdown",
   "metadata": {},
   "source": [
    "### Savings Health Analysis"
   ]
  },
  {
   "cell_type": "code",
   "execution_count": 11,
   "metadata": {},
   "outputs": [
    {
     "data": {
      "text/html": [
       "<div>\n",
       "<style scoped>\n",
       "    .dataframe tbody tr th:only-of-type {\n",
       "        vertical-align: middle;\n",
       "    }\n",
       "\n",
       "    .dataframe tbody tr th {\n",
       "        vertical-align: top;\n",
       "    }\n",
       "\n",
       "    .dataframe thead th {\n",
       "        text-align: right;\n",
       "    }\n",
       "</style>\n",
       "<table border=\"1\" class=\"dataframe\">\n",
       "  <thead>\n",
       "    <tr style=\"text-align: right;\">\n",
       "      <th></th>\n",
       "      <th>amount</th>\n",
       "    </tr>\n",
       "  </thead>\n",
       "  <tbody>\n",
       "    <tr>\n",
       "      <th>crypto</th>\n",
       "      <td>45372.533</td>\n",
       "    </tr>\n",
       "    <tr>\n",
       "      <th>shares</th>\n",
       "      <td>39257.500</td>\n",
       "    </tr>\n",
       "  </tbody>\n",
       "</table>\n",
       "</div>"
      ],
      "text/plain": [
       "           amount\n",
       "crypto  45372.533\n",
       "shares  39257.500"
      ]
     },
     "metadata": {},
     "output_type": "display_data"
    }
   ],
   "source": [
    "# Set monthly household income\n",
    "monthly_income=12000\n",
    "\n",
    "# Create savings DataFrame\n",
    "savings_data = {\n",
    "    \"amount\":[(my_btc_value + my_eth_value),(my_agg_value+my_spy_value)]\n",
    "}\n",
    "securities= [\"crypto\",\"shares\"]\n",
    "df_savings = pd.DataFrame(savings_data,index=securities)\n",
    "\n",
    "# Display savings DataFrame\n",
    "display(df_savings)"
   ]
  },
  {
   "cell_type": "code",
   "execution_count": 12,
   "metadata": {},
   "outputs": [
    {
     "data": {
      "text/plain": [
       "<matplotlib.axes._subplots.AxesSubplot at 0x18354d42130>"
      ]
     },
     "execution_count": 12,
     "metadata": {},
     "output_type": "execute_result"
    },
    {
     "data": {
      "image/png": "[encoded data removed]",
      "text/plain": [
       "<Figure size 360x360 with 1 Axes>"
      ]
     },
     "metadata": {},
     "output_type": "display_data"
    }
   ],
   "source": [
    "# Plot savings pie chart\n",
    "df_savings.plot.pie(y=\"amount\",title=\"Composition of Personal Savings\",figsize=(5,5))"
   ]
  },
  {
   "cell_type": "code",
   "execution_count": 13,
   "metadata": {},
   "outputs": [
    {
     "name": "stdout",
     "output_type": "stream",
     "text": [
      "Congratulations! You have enough money in your emergency fund.\n"
     ]
    }
   ],
   "source": [
    "# Set ideal emergency fund\n",
    "emergency_fund = monthly_income * 3\n",
    "\n",
    "# Calculate total amount of savings\n",
    "current_savings = (my_btc_value+my_eth_value)+(my_agg_value+my_spy_value)\n",
    "\n",
    "# Validate saving health\n",
    "if current_savings > emergency_fund:\n",
    "    print(\"Congratulations! You have enough money in your emergency fund.\")\n",
    "elif current_savings == emergency_fund:\n",
    "    print(\"Congratulations! For reaching your financial goal.\")\n",
    "else:\n",
    "    print(f\"You need ${emergency_fund - current_savings} to reach your goal.\")"
   ]
  },
  {
   "cell_type": "markdown",
   "metadata": {},
   "source": [
    "## Part 2 - Retirement Planning\n",
    "\n",
    "### Monte Carlo Simulation"
   ]
  },
  {
   "cell_type": "code",
   "execution_count": 14,
   "metadata": {},
   "outputs": [],
   "source": [
    "# Set start and end dates of five years back from today.\n",
    "# Sample results may vary from the solution based on the time frame chosen\n",
    "start_date = pd.Timestamp('2016-01-24', tz='America/New_York').isoformat()\n",
    "end_date = pd.Timestamp('2021-01-24', tz='America/New_York').isoformat()"
   ]
  },
  {
   "cell_type": "code",
   "execution_count": 15,
   "metadata": {},
   "outputs": [
    {
     "data": {
      "text/html": [
       "<div>\n",
       "<style scoped>\n",
       "    .dataframe tbody tr th:only-of-type {\n",
       "        vertical-align: middle;\n",
       "    }\n",
       "\n",
       "    .dataframe tbody tr th {\n",
       "        vertical-align: top;\n",
       "    }\n",
       "\n",
       "    .dataframe thead tr th {\n",
       "        text-align: left;\n",
       "    }\n",
       "</style>\n",
       "<table border=\"1\" class=\"dataframe\">\n",
       "  <thead>\n",
       "    <tr>\n",
       "      <th></th>\n",
       "      <th colspan=\"5\" halign=\"left\">AGG</th>\n",
       "      <th colspan=\"5\" halign=\"left\">SPY</th>\n",
       "    </tr>\n",
       "    <tr>\n",
       "      <th></th>\n",
       "      <th>open</th>\n",
       "      <th>high</th>\n",
       "      <th>low</th>\n",
       "      <th>close</th>\n",
       "      <th>volume</th>\n",
       "      <th>open</th>\n",
       "      <th>high</th>\n",
       "      <th>low</th>\n",
       "      <th>close</th>\n",
       "      <th>volume</th>\n",
       "    </tr>\n",
       "  </thead>\n",
       "  <tbody>\n",
       "    <tr>\n",
       "      <th>2016-01-25 00:00:00-05:00</th>\n",
       "      <td>108.95</td>\n",
       "      <td>108.9800</td>\n",
       "      <td>108.7700</td>\n",
       "      <td>108.79</td>\n",
       "      <td>3120189.0</td>\n",
       "      <td>189.93</td>\n",
       "      <td>190.15</td>\n",
       "      <td>187.41</td>\n",
       "      <td>187.66</td>\n",
       "      <td>99219694</td>\n",
       "    </tr>\n",
       "    <tr>\n",
       "      <th>2016-01-26 00:00:00-05:00</th>\n",
       "      <td>108.90</td>\n",
       "      <td>108.9950</td>\n",
       "      <td>108.7699</td>\n",
       "      <td>108.90</td>\n",
       "      <td>2023631.0</td>\n",
       "      <td>188.42</td>\n",
       "      <td>190.53</td>\n",
       "      <td>188.02</td>\n",
       "      <td>190.18</td>\n",
       "      <td>115312517</td>\n",
       "    </tr>\n",
       "    <tr>\n",
       "      <th>2016-01-27 00:00:00-05:00</th>\n",
       "      <td>108.91</td>\n",
       "      <td>109.0100</td>\n",
       "      <td>108.7200</td>\n",
       "      <td>108.95</td>\n",
       "      <td>1531148.0</td>\n",
       "      <td>189.58</td>\n",
       "      <td>191.56</td>\n",
       "      <td>187.06</td>\n",
       "      <td>188.12</td>\n",
       "      <td>157060622</td>\n",
       "    </tr>\n",
       "    <tr>\n",
       "      <th>2016-01-28 00:00:00-05:00</th>\n",
       "      <td>108.99</td>\n",
       "      <td>109.0988</td>\n",
       "      <td>108.8201</td>\n",
       "      <td>109.04</td>\n",
       "      <td>2146566.0</td>\n",
       "      <td>189.96</td>\n",
       "      <td>190.20</td>\n",
       "      <td>187.16</td>\n",
       "      <td>189.14</td>\n",
       "      <td>118949268</td>\n",
       "    </tr>\n",
       "    <tr>\n",
       "      <th>2016-01-29 00:00:00-05:00</th>\n",
       "      <td>109.41</td>\n",
       "      <td>109.4800</td>\n",
       "      <td>109.2500</td>\n",
       "      <td>109.32</td>\n",
       "      <td>7404827.0</td>\n",
       "      <td>190.02</td>\n",
       "      <td>193.75</td>\n",
       "      <td>189.88</td>\n",
       "      <td>193.69</td>\n",
       "      <td>145410523</td>\n",
       "    </tr>\n",
       "  </tbody>\n",
       "</table>\n",
       "</div>"
      ],
      "text/plain": [
       "                              AGG                                         \\\n",
       "                             open      high       low   close     volume   \n",
       "2016-01-25 00:00:00-05:00  108.95  108.9800  108.7700  108.79  3120189.0   \n",
       "2016-01-26 00:00:00-05:00  108.90  108.9950  108.7699  108.90  2023631.0   \n",
       "2016-01-27 00:00:00-05:00  108.91  109.0100  108.7200  108.95  1531148.0   \n",
       "2016-01-28 00:00:00-05:00  108.99  109.0988  108.8201  109.04  2146566.0   \n",
       "2016-01-29 00:00:00-05:00  109.41  109.4800  109.2500  109.32  7404827.0   \n",
       "\n",
       "                              SPY                                     \n",
       "                             open    high     low   close     volume  \n",
       "2016-01-25 00:00:00-05:00  189.93  190.15  187.41  187.66   99219694  \n",
       "2016-01-26 00:00:00-05:00  188.42  190.53  188.02  190.18  115312517  \n",
       "2016-01-27 00:00:00-05:00  189.58  191.56  187.06  188.12  157060622  \n",
       "2016-01-28 00:00:00-05:00  189.96  190.20  187.16  189.14  118949268  \n",
       "2016-01-29 00:00:00-05:00  190.02  193.75  189.88  193.69  145410523  "
      ]
     },
     "execution_count": 15,
     "metadata": {},
     "output_type": "execute_result"
    }
   ],
   "source": [
    "# Get 5 years' worth of historical data for SPY and AGG\n",
    "spy_agg_5_df= alpaca.get_barset(\n",
    "    tickers,\n",
    "    timeframe,\n",
    "    start = start_date,\n",
    "    end = end_date\n",
    ").df\n",
    "\n",
    "# Display sample data\n",
    "spy_agg_5_df.head()"
   ]
  },
  {
   "cell_type": "code",
   "execution_count": 16,
   "metadata": {},
   "outputs": [],
   "source": [
    "# Configuring a Monte Carlo simulation to forecast 30 years cumulative returns\n",
    "MC_thirtyyear=MCSimulation(\n",
    "    portfolio_data=spy_agg_5_df,\n",
    "    weights=[.40,.60],\n",
    "    num_simulation=500,\n",
    "    num_trading_days=252*30,\n",
    ")"
   ]
  },
  {
   "cell_type": "code",
   "execution_count": 17,
   "metadata": {},
   "outputs": [
    {
     "data": {
      "text/html": [
       "<div>\n",
       "<style scoped>\n",
       "    .dataframe tbody tr th:only-of-type {\n",
       "        vertical-align: middle;\n",
       "    }\n",
       "\n",
       "    .dataframe tbody tr th {\n",
       "        vertical-align: top;\n",
       "    }\n",
       "\n",
       "    .dataframe thead tr th {\n",
       "        text-align: left;\n",
       "    }\n",
       "</style>\n",
       "<table border=\"1\" class=\"dataframe\">\n",
       "  <thead>\n",
       "    <tr>\n",
       "      <th></th>\n",
       "      <th colspan=\"6\" halign=\"left\">AGG</th>\n",
       "      <th colspan=\"6\" halign=\"left\">SPY</th>\n",
       "    </tr>\n",
       "    <tr>\n",
       "      <th></th>\n",
       "      <th>open</th>\n",
       "      <th>high</th>\n",
       "      <th>low</th>\n",
       "      <th>close</th>\n",
       "      <th>volume</th>\n",
       "      <th>daily_return</th>\n",
       "      <th>open</th>\n",
       "      <th>high</th>\n",
       "      <th>low</th>\n",
       "      <th>close</th>\n",
       "      <th>volume</th>\n",
       "      <th>daily_return</th>\n",
       "    </tr>\n",
       "  </thead>\n",
       "  <tbody>\n",
       "    <tr>\n",
       "      <th>2016-01-25 00:00:00-05:00</th>\n",
       "      <td>108.95</td>\n",
       "      <td>108.9800</td>\n",
       "      <td>108.7700</td>\n",
       "      <td>108.79</td>\n",
       "      <td>3120189.0</td>\n",
       "      <td>NaN</td>\n",
       "      <td>189.93</td>\n",
       "      <td>190.1500</td>\n",
       "      <td>187.410</td>\n",
       "      <td>187.66</td>\n",
       "      <td>99219694</td>\n",
       "      <td>NaN</td>\n",
       "    </tr>\n",
       "    <tr>\n",
       "      <th>2016-01-26 00:00:00-05:00</th>\n",
       "      <td>108.90</td>\n",
       "      <td>108.9950</td>\n",
       "      <td>108.7699</td>\n",
       "      <td>108.90</td>\n",
       "      <td>2023631.0</td>\n",
       "      <td>0.001011</td>\n",
       "      <td>188.42</td>\n",
       "      <td>190.5300</td>\n",
       "      <td>188.020</td>\n",
       "      <td>190.18</td>\n",
       "      <td>115312517</td>\n",
       "      <td>0.013429</td>\n",
       "    </tr>\n",
       "    <tr>\n",
       "      <th>2016-01-27 00:00:00-05:00</th>\n",
       "      <td>108.91</td>\n",
       "      <td>109.0100</td>\n",
       "      <td>108.7200</td>\n",
       "      <td>108.95</td>\n",
       "      <td>1531148.0</td>\n",
       "      <td>0.000459</td>\n",
       "      <td>189.58</td>\n",
       "      <td>191.5600</td>\n",
       "      <td>187.060</td>\n",
       "      <td>188.12</td>\n",
       "      <td>157060622</td>\n",
       "      <td>-0.010832</td>\n",
       "    </tr>\n",
       "    <tr>\n",
       "      <th>2016-01-28 00:00:00-05:00</th>\n",
       "      <td>108.99</td>\n",
       "      <td>109.0988</td>\n",
       "      <td>108.8201</td>\n",
       "      <td>109.04</td>\n",
       "      <td>2146566.0</td>\n",
       "      <td>0.000826</td>\n",
       "      <td>189.96</td>\n",
       "      <td>190.2000</td>\n",
       "      <td>187.160</td>\n",
       "      <td>189.14</td>\n",
       "      <td>118949268</td>\n",
       "      <td>0.005422</td>\n",
       "    </tr>\n",
       "    <tr>\n",
       "      <th>2016-01-29 00:00:00-05:00</th>\n",
       "      <td>109.41</td>\n",
       "      <td>109.4800</td>\n",
       "      <td>109.2500</td>\n",
       "      <td>109.32</td>\n",
       "      <td>7404827.0</td>\n",
       "      <td>0.002568</td>\n",
       "      <td>190.02</td>\n",
       "      <td>193.7500</td>\n",
       "      <td>189.880</td>\n",
       "      <td>193.69</td>\n",
       "      <td>145410523</td>\n",
       "      <td>0.024056</td>\n",
       "    </tr>\n",
       "    <tr>\n",
       "      <th>...</th>\n",
       "      <td>...</td>\n",
       "      <td>...</td>\n",
       "      <td>...</td>\n",
       "      <td>...</td>\n",
       "      <td>...</td>\n",
       "      <td>...</td>\n",
       "      <td>...</td>\n",
       "      <td>...</td>\n",
       "      <td>...</td>\n",
       "      <td>...</td>\n",
       "      <td>...</td>\n",
       "      <td>...</td>\n",
       "    </tr>\n",
       "    <tr>\n",
       "      <th>2021-01-15 00:00:00-05:00</th>\n",
       "      <td>117.34</td>\n",
       "      <td>117.3600</td>\n",
       "      <td>117.1800</td>\n",
       "      <td>117.26</td>\n",
       "      <td>4776104.0</td>\n",
       "      <td>0.000939</td>\n",
       "      <td>376.72</td>\n",
       "      <td>377.5800</td>\n",
       "      <td>373.700</td>\n",
       "      <td>375.68</td>\n",
       "      <td>78405054</td>\n",
       "      <td>-0.007319</td>\n",
       "    </tr>\n",
       "    <tr>\n",
       "      <th>2021-01-19 00:00:00-05:00</th>\n",
       "      <td>117.27</td>\n",
       "      <td>117.4200</td>\n",
       "      <td>117.2200</td>\n",
       "      <td>117.41</td>\n",
       "      <td>5057257.0</td>\n",
       "      <td>0.001279</td>\n",
       "      <td>378.34</td>\n",
       "      <td>379.2300</td>\n",
       "      <td>376.750</td>\n",
       "      <td>378.63</td>\n",
       "      <td>42257108</td>\n",
       "      <td>0.007852</td>\n",
       "    </tr>\n",
       "    <tr>\n",
       "      <th>2021-01-20 00:00:00-05:00</th>\n",
       "      <td>117.35</td>\n",
       "      <td>117.4300</td>\n",
       "      <td>117.3100</td>\n",
       "      <td>117.40</td>\n",
       "      <td>3877734.0</td>\n",
       "      <td>-0.000085</td>\n",
       "      <td>381.11</td>\n",
       "      <td>384.7900</td>\n",
       "      <td>380.690</td>\n",
       "      <td>383.86</td>\n",
       "      <td>53064901</td>\n",
       "      <td>0.013813</td>\n",
       "    </tr>\n",
       "    <tr>\n",
       "      <th>2021-01-21 00:00:00-05:00</th>\n",
       "      <td>117.22</td>\n",
       "      <td>117.2985</td>\n",
       "      <td>117.1400</td>\n",
       "      <td>117.26</td>\n",
       "      <td>5801029.0</td>\n",
       "      <td>-0.001193</td>\n",
       "      <td>384.49</td>\n",
       "      <td>384.9500</td>\n",
       "      <td>383.250</td>\n",
       "      <td>384.20</td>\n",
       "      <td>41800991</td>\n",
       "      <td>0.000886</td>\n",
       "    </tr>\n",
       "    <tr>\n",
       "      <th>2021-01-22 00:00:00-05:00</th>\n",
       "      <td>117.29</td>\n",
       "      <td>117.3200</td>\n",
       "      <td>117.1900</td>\n",
       "      <td>117.26</td>\n",
       "      <td>3469745.0</td>\n",
       "      <td>0.000000</td>\n",
       "      <td>382.25</td>\n",
       "      <td>384.1256</td>\n",
       "      <td>381.835</td>\n",
       "      <td>382.86</td>\n",
       "      <td>39108239</td>\n",
       "      <td>-0.003488</td>\n",
       "    </tr>\n",
       "  </tbody>\n",
       "</table>\n",
       "<p>1259 rows × 12 columns</p>\n",
       "</div>"
      ],
      "text/plain": [
       "                              AGG                                         \\\n",
       "                             open      high       low   close     volume   \n",
       "2016-01-25 00:00:00-05:00  108.95  108.9800  108.7700  108.79  3120189.0   \n",
       "2016-01-26 00:00:00-05:00  108.90  108.9950  108.7699  108.90  2023631.0   \n",
       "2016-01-27 00:00:00-05:00  108.91  109.0100  108.7200  108.95  1531148.0   \n",
       "2016-01-28 00:00:00-05:00  108.99  109.0988  108.8201  109.04  2146566.0   \n",
       "2016-01-29 00:00:00-05:00  109.41  109.4800  109.2500  109.32  7404827.0   \n",
       "...                           ...       ...       ...     ...        ...   \n",
       "2021-01-15 00:00:00-05:00  117.34  117.3600  117.1800  117.26  4776104.0   \n",
       "2021-01-19 00:00:00-05:00  117.27  117.4200  117.2200  117.41  5057257.0   \n",
       "2021-01-20 00:00:00-05:00  117.35  117.4300  117.3100  117.40  3877734.0   \n",
       "2021-01-21 00:00:00-05:00  117.22  117.2985  117.1400  117.26  5801029.0   \n",
       "2021-01-22 00:00:00-05:00  117.29  117.3200  117.1900  117.26  3469745.0   \n",
       "\n",
       "                                           SPY                             \\\n",
       "                          daily_return    open      high      low   close   \n",
       "2016-01-25 00:00:00-05:00          NaN  189.93  190.1500  187.410  187.66   \n",
       "2016-01-26 00:00:00-05:00     0.001011  188.42  190.5300  188.020  190.18   \n",
       "2016-01-27 00:00:00-05:00     0.000459  189.58  191.5600  187.060  188.12   \n",
       "2016-01-28 00:00:00-05:00     0.000826  189.96  190.2000  187.160  189.14   \n",
       "2016-01-29 00:00:00-05:00     0.002568  190.02  193.7500  189.880  193.69   \n",
       "...                                ...     ...       ...      ...     ...   \n",
       "2021-01-15 00:00:00-05:00     0.000939  376.72  377.5800  373.700  375.68   \n",
       "2021-01-19 00:00:00-05:00     0.001279  378.34  379.2300  376.750  378.63   \n",
       "2021-01-20 00:00:00-05:00    -0.000085  381.11  384.7900  380.690  383.86   \n",
       "2021-01-21 00:00:00-05:00    -0.001193  384.49  384.9500  383.250  384.20   \n",
       "2021-01-22 00:00:00-05:00     0.000000  382.25  384.1256  381.835  382.86   \n",
       "\n",
       "                                                   \n",
       "                              volume daily_return  \n",
       "2016-01-25 00:00:00-05:00   99219694          NaN  \n",
       "2016-01-26 00:00:00-05:00  115312517     0.013429  \n",
       "2016-01-27 00:00:00-05:00  157060622    -0.010832  \n",
       "2016-01-28 00:00:00-05:00  118949268     0.005422  \n",
       "2016-01-29 00:00:00-05:00  145410523     0.024056  \n",
       "...                              ...          ...  \n",
       "2021-01-15 00:00:00-05:00   78405054    -0.007319  \n",
       "2021-01-19 00:00:00-05:00   42257108     0.007852  \n",
       "2021-01-20 00:00:00-05:00   53064901     0.013813  \n",
       "2021-01-21 00:00:00-05:00   41800991     0.000886  \n",
       "2021-01-22 00:00:00-05:00   39108239    -0.003488  \n",
       "\n",
       "[1259 rows x 12 columns]"
      ]
     },
     "execution_count": 17,
     "metadata": {},
     "output_type": "execute_result"
    }
   ],
   "source": [
    "# Printing the simulation input data\n",
    "MC_thirtyyear.portfolio_data"
   ]
  },
  {
   "cell_type": "code",
   "execution_count": 18,
   "metadata": {},
   "outputs": [
    {
     "name": "stdout",
     "output_type": "stream",
     "text": [
      "Running Monte Carlo simulation number 0.\n",
      "Running Monte Carlo simulation number 10.\n",
      "Running Monte Carlo simulation number 20.\n",
      "Running Monte Carlo simulation number 30.\n",
      "Running Monte Carlo simulation number 40.\n",
      "Running Monte Carlo simulation number 50.\n",
      "Running Monte Carlo simulation number 60.\n",
      "Running Monte Carlo simulation number 70.\n",
      "Running Monte Carlo simulation number 80.\n",
      "Running Monte Carlo simulation number 90.\n",
      "Running Monte Carlo simulation number 100.\n",
      "Running Monte Carlo simulation number 110.\n",
      "Running Monte Carlo simulation number 120.\n",
      "Running Monte Carlo simulation number 130.\n",
      "Running Monte Carlo simulation number 140.\n",
      "Running Monte Carlo simulation number 150.\n",
      "Running Monte Carlo simulation number 160.\n",
      "Running Monte Carlo simulation number 170.\n",
      "Running Monte Carlo simulation number 180.\n",
      "Running Monte Carlo simulation number 190.\n",
      "Running Monte Carlo simulation number 200.\n",
      "Running Monte Carlo simulation number 210.\n",
      "Running Monte Carlo simulation number 220.\n",
      "Running Monte Carlo simulation number 230.\n",
      "Running Monte Carlo simulation number 240.\n",
      "Running Monte Carlo simulation number 250.\n",
      "Running Monte Carlo simulation number 260.\n",
      "Running Monte Carlo simulation number 270.\n",
      "Running Monte Carlo simulation number 280.\n",
      "Running Monte Carlo simulation number 290.\n",
      "Running Monte Carlo simulation number 300.\n",
      "Running Monte Carlo simulation number 310.\n",
      "Running Monte Carlo simulation number 320.\n",
      "Running Monte Carlo simulation number 330.\n",
      "Running Monte Carlo simulation number 340.\n",
      "Running Monte Carlo simulation number 350.\n",
      "Running Monte Carlo simulation number 360.\n",
      "Running Monte Carlo simulation number 370.\n",
      "Running Monte Carlo simulation number 380.\n",
      "Running Monte Carlo simulation number 390.\n",
      "Running Monte Carlo simulation number 400.\n",
      "Running Monte Carlo simulation number 410.\n",
      "Running Monte Carlo simulation number 420.\n",
      "Running Monte Carlo simulation number 430.\n",
      "Running Monte Carlo simulation number 440.\n",
      "Running Monte Carlo simulation number 450.\n",
      "Running Monte Carlo simulation number 460.\n",
      "Running Monte Carlo simulation number 470.\n",
      "Running Monte Carlo simulation number 480.\n",
      "Running Monte Carlo simulation number 490.\n"
     ]
    },
    {
     "data": {
      "text/html": [
       "<div>\n",
       "<style scoped>\n",
       "    .dataframe tbody tr th:only-of-type {\n",
       "        vertical-align: middle;\n",
       "    }\n",
       "\n",
       "    .dataframe tbody tr th {\n",
       "        vertical-align: top;\n",
       "    }\n",
       "\n",
       "    .dataframe thead th {\n",
       "        text-align: right;\n",
       "    }\n",
       "</style>\n",
       "<table border=\"1\" class=\"dataframe\">\n",
       "  <thead>\n",
       "    <tr style=\"text-align: right;\">\n",
       "      <th></th>\n",
       "      <th>0</th>\n",
       "      <th>1</th>\n",
       "      <th>2</th>\n",
       "      <th>3</th>\n",
       "      <th>4</th>\n",
       "      <th>5</th>\n",
       "      <th>6</th>\n",
       "      <th>7</th>\n",
       "      <th>8</th>\n",
       "      <th>9</th>\n",
       "      <th>...</th>\n",
       "      <th>490</th>\n",
       "      <th>491</th>\n",
       "      <th>492</th>\n",
       "      <th>493</th>\n",
       "      <th>494</th>\n",
       "      <th>495</th>\n",
       "      <th>496</th>\n",
       "      <th>497</th>\n",
       "      <th>498</th>\n",
       "      <th>499</th>\n",
       "    </tr>\n",
       "  </thead>\n",
       "  <tbody>\n",
       "    <tr>\n",
       "      <th>0</th>\n",
       "      <td>1.000000</td>\n",
       "      <td>1.000000</td>\n",
       "      <td>1.000000</td>\n",
       "      <td>1.000000</td>\n",
       "      <td>1.000000</td>\n",
       "      <td>1.000000</td>\n",
       "      <td>1.000000</td>\n",
       "      <td>1.000000</td>\n",
       "      <td>1.000000</td>\n",
       "      <td>1.000000</td>\n",
       "      <td>...</td>\n",
       "      <td>1.000000</td>\n",
       "      <td>1.000000</td>\n",
       "      <td>1.000000</td>\n",
       "      <td>1.000000</td>\n",
       "      <td>1.000000</td>\n",
       "      <td>1.000000</td>\n",
       "      <td>1.000000</td>\n",
       "      <td>1.000000</td>\n",
       "      <td>1.000000</td>\n",
       "      <td>1.000000</td>\n",
       "    </tr>\n",
       "    <tr>\n",
       "      <th>1</th>\n",
       "      <td>0.997296</td>\n",
       "      <td>1.012851</td>\n",
       "      <td>0.987353</td>\n",
       "      <td>1.000423</td>\n",
       "      <td>1.001094</td>\n",
       "      <td>1.005694</td>\n",
       "      <td>1.009064</td>\n",
       "      <td>0.989560</td>\n",
       "      <td>1.001166</td>\n",
       "      <td>1.004532</td>\n",
       "      <td>...</td>\n",
       "      <td>0.999508</td>\n",
       "      <td>0.998323</td>\n",
       "      <td>0.985053</td>\n",
       "      <td>1.002927</td>\n",
       "      <td>0.996855</td>\n",
       "      <td>1.006442</td>\n",
       "      <td>0.996897</td>\n",
       "      <td>0.998623</td>\n",
       "      <td>0.992757</td>\n",
       "      <td>1.005209</td>\n",
       "    </tr>\n",
       "    <tr>\n",
       "      <th>2</th>\n",
       "      <td>1.000954</td>\n",
       "      <td>1.009757</td>\n",
       "      <td>0.980498</td>\n",
       "      <td>1.003946</td>\n",
       "      <td>1.006257</td>\n",
       "      <td>1.010460</td>\n",
       "      <td>1.012370</td>\n",
       "      <td>0.992024</td>\n",
       "      <td>0.998760</td>\n",
       "      <td>0.992689</td>\n",
       "      <td>...</td>\n",
       "      <td>1.001415</td>\n",
       "      <td>1.004504</td>\n",
       "      <td>0.982108</td>\n",
       "      <td>1.013889</td>\n",
       "      <td>1.007327</td>\n",
       "      <td>0.998511</td>\n",
       "      <td>0.998534</td>\n",
       "      <td>1.011057</td>\n",
       "      <td>0.990587</td>\n",
       "      <td>1.003838</td>\n",
       "    </tr>\n",
       "    <tr>\n",
       "      <th>3</th>\n",
       "      <td>1.018100</td>\n",
       "      <td>1.016738</td>\n",
       "      <td>0.980390</td>\n",
       "      <td>1.002804</td>\n",
       "      <td>1.008575</td>\n",
       "      <td>1.022593</td>\n",
       "      <td>0.998066</td>\n",
       "      <td>1.002524</td>\n",
       "      <td>1.005057</td>\n",
       "      <td>0.992995</td>\n",
       "      <td>...</td>\n",
       "      <td>0.995302</td>\n",
       "      <td>1.009948</td>\n",
       "      <td>0.981043</td>\n",
       "      <td>1.028647</td>\n",
       "      <td>1.008662</td>\n",
       "      <td>1.006689</td>\n",
       "      <td>1.018437</td>\n",
       "      <td>1.009725</td>\n",
       "      <td>0.998621</td>\n",
       "      <td>1.001381</td>\n",
       "    </tr>\n",
       "    <tr>\n",
       "      <th>4</th>\n",
       "      <td>1.018011</td>\n",
       "      <td>1.026083</td>\n",
       "      <td>0.968046</td>\n",
       "      <td>0.994817</td>\n",
       "      <td>1.017052</td>\n",
       "      <td>1.020472</td>\n",
       "      <td>0.994473</td>\n",
       "      <td>1.012993</td>\n",
       "      <td>1.005825</td>\n",
       "      <td>0.995972</td>\n",
       "      <td>...</td>\n",
       "      <td>0.999719</td>\n",
       "      <td>1.009912</td>\n",
       "      <td>0.972989</td>\n",
       "      <td>1.028170</td>\n",
       "      <td>1.006355</td>\n",
       "      <td>1.009506</td>\n",
       "      <td>1.004984</td>\n",
       "      <td>1.012672</td>\n",
       "      <td>0.996404</td>\n",
       "      <td>0.999674</td>\n",
       "    </tr>\n",
       "    <tr>\n",
       "      <th>...</th>\n",
       "      <td>...</td>\n",
       "      <td>...</td>\n",
       "      <td>...</td>\n",
       "      <td>...</td>\n",
       "      <td>...</td>\n",
       "      <td>...</td>\n",
       "      <td>...</td>\n",
       "      <td>...</td>\n",
       "      <td>...</td>\n",
       "      <td>...</td>\n",
       "      <td>...</td>\n",
       "      <td>...</td>\n",
       "      <td>...</td>\n",
       "      <td>...</td>\n",
       "      <td>...</td>\n",
       "      <td>...</td>\n",
       "      <td>...</td>\n",
       "      <td>...</td>\n",
       "      <td>...</td>\n",
       "      <td>...</td>\n",
       "      <td>...</td>\n",
       "    </tr>\n",
       "    <tr>\n",
       "      <th>7556</th>\n",
       "      <td>40.021607</td>\n",
       "      <td>8.869689</td>\n",
       "      <td>5.686468</td>\n",
       "      <td>21.076426</td>\n",
       "      <td>25.659376</td>\n",
       "      <td>13.632898</td>\n",
       "      <td>19.506800</td>\n",
       "      <td>9.021422</td>\n",
       "      <td>4.555742</td>\n",
       "      <td>14.213423</td>\n",
       "      <td>...</td>\n",
       "      <td>13.188542</td>\n",
       "      <td>4.807563</td>\n",
       "      <td>36.354132</td>\n",
       "      <td>9.880051</td>\n",
       "      <td>52.309097</td>\n",
       "      <td>12.554089</td>\n",
       "      <td>15.519690</td>\n",
       "      <td>15.038956</td>\n",
       "      <td>9.668868</td>\n",
       "      <td>9.388238</td>\n",
       "    </tr>\n",
       "    <tr>\n",
       "      <th>7557</th>\n",
       "      <td>41.181183</td>\n",
       "      <td>8.852681</td>\n",
       "      <td>5.698122</td>\n",
       "      <td>20.976089</td>\n",
       "      <td>25.766862</td>\n",
       "      <td>13.701707</td>\n",
       "      <td>19.478577</td>\n",
       "      <td>8.979088</td>\n",
       "      <td>4.531676</td>\n",
       "      <td>14.307291</td>\n",
       "      <td>...</td>\n",
       "      <td>13.167764</td>\n",
       "      <td>4.784911</td>\n",
       "      <td>36.369268</td>\n",
       "      <td>10.012090</td>\n",
       "      <td>52.106450</td>\n",
       "      <td>12.481964</td>\n",
       "      <td>15.487086</td>\n",
       "      <td>15.101314</td>\n",
       "      <td>9.610603</td>\n",
       "      <td>9.408400</td>\n",
       "    </tr>\n",
       "    <tr>\n",
       "      <th>7558</th>\n",
       "      <td>40.907916</td>\n",
       "      <td>8.857819</td>\n",
       "      <td>5.722902</td>\n",
       "      <td>20.971200</td>\n",
       "      <td>25.673218</td>\n",
       "      <td>13.612565</td>\n",
       "      <td>19.662266</td>\n",
       "      <td>8.986737</td>\n",
       "      <td>4.582142</td>\n",
       "      <td>14.366218</td>\n",
       "      <td>...</td>\n",
       "      <td>13.198551</td>\n",
       "      <td>4.768285</td>\n",
       "      <td>36.402699</td>\n",
       "      <td>10.023108</td>\n",
       "      <td>52.062484</td>\n",
       "      <td>12.618843</td>\n",
       "      <td>15.374245</td>\n",
       "      <td>15.138096</td>\n",
       "      <td>9.587700</td>\n",
       "      <td>9.437655</td>\n",
       "    </tr>\n",
       "    <tr>\n",
       "      <th>7559</th>\n",
       "      <td>41.128963</td>\n",
       "      <td>8.985897</td>\n",
       "      <td>5.659910</td>\n",
       "      <td>21.117060</td>\n",
       "      <td>25.684565</td>\n",
       "      <td>13.737612</td>\n",
       "      <td>19.569704</td>\n",
       "      <td>9.051528</td>\n",
       "      <td>4.593038</td>\n",
       "      <td>14.466037</td>\n",
       "      <td>...</td>\n",
       "      <td>13.176798</td>\n",
       "      <td>4.795258</td>\n",
       "      <td>36.227659</td>\n",
       "      <td>9.994810</td>\n",
       "      <td>52.120488</td>\n",
       "      <td>12.533772</td>\n",
       "      <td>15.161519</td>\n",
       "      <td>15.084942</td>\n",
       "      <td>9.611645</td>\n",
       "      <td>9.471064</td>\n",
       "    </tr>\n",
       "    <tr>\n",
       "      <th>7560</th>\n",
       "      <td>41.190558</td>\n",
       "      <td>8.982291</td>\n",
       "      <td>5.665328</td>\n",
       "      <td>21.098957</td>\n",
       "      <td>25.595735</td>\n",
       "      <td>13.758109</td>\n",
       "      <td>19.721951</td>\n",
       "      <td>9.033028</td>\n",
       "      <td>4.639963</td>\n",
       "      <td>14.406748</td>\n",
       "      <td>...</td>\n",
       "      <td>13.145643</td>\n",
       "      <td>4.818366</td>\n",
       "      <td>36.044147</td>\n",
       "      <td>10.007179</td>\n",
       "      <td>52.852403</td>\n",
       "      <td>12.341133</td>\n",
       "      <td>15.144142</td>\n",
       "      <td>15.201420</td>\n",
       "      <td>9.589211</td>\n",
       "      <td>9.439250</td>\n",
       "    </tr>\n",
       "  </tbody>\n",
       "</table>\n",
       "<p>7561 rows × 500 columns</p>\n",
       "</div>"
      ],
      "text/plain": [
       "            0         1         2          3          4          5    \\\n",
       "0      1.000000  1.000000  1.000000   1.000000   1.000000   1.000000   \n",
       "1      0.997296  1.012851  0.987353   1.000423   1.001094   1.005694   \n",
       "2      1.000954  1.009757  0.980498   1.003946   1.006257   1.010460   \n",
       "3      1.018100  1.016738  0.980390   1.002804   1.008575   1.022593   \n",
       "4      1.018011  1.026083  0.968046   0.994817   1.017052   1.020472   \n",
       "...         ...       ...       ...        ...        ...        ...   \n",
       "7556  40.021607  8.869689  5.686468  21.076426  25.659376  13.632898   \n",
       "7557  41.181183  8.852681  5.698122  20.976089  25.766862  13.701707   \n",
       "7558  40.907916  8.857819  5.722902  20.971200  25.673218  13.612565   \n",
       "7559  41.128963  8.985897  5.659910  21.117060  25.684565  13.737612   \n",
       "7560  41.190558  8.982291  5.665328  21.098957  25.595735  13.758109   \n",
       "\n",
       "            6         7         8          9    ...        490       491  \\\n",
       "0      1.000000  1.000000  1.000000   1.000000  ...   1.000000  1.000000   \n",
       "1      1.009064  0.989560  1.001166   1.004532  ...   0.999508  0.998323   \n",
       "2      1.012370  0.992024  0.998760   0.992689  ...   1.001415  1.004504   \n",
       "3      0.998066  1.002524  1.005057   0.992995  ...   0.995302  1.009948   \n",
       "4      0.994473  1.012993  1.005825   0.995972  ...   0.999719  1.009912   \n",
       "...         ...       ...       ...        ...  ...        ...       ...   \n",
       "7556  19.506800  9.021422  4.555742  14.213423  ...  13.188542  4.807563   \n",
       "7557  19.478577  8.979088  4.531676  14.307291  ...  13.167764  4.784911   \n",
       "7558  19.662266  8.986737  4.582142  14.366218  ...  13.198551  4.768285   \n",
       "7559  19.569704  9.051528  4.593038  14.466037  ...  13.176798  4.795258   \n",
       "7560  19.721951  9.033028  4.639963  14.406748  ...  13.145643  4.818366   \n",
       "\n",
       "            492        493        494        495        496        497  \\\n",
       "0      1.000000   1.000000   1.000000   1.000000   1.000000   1.000000   \n",
       "1      0.985053   1.002927   0.996855   1.006442   0.996897   0.998623   \n",
       "2      0.982108   1.013889   1.007327   0.998511   0.998534   1.011057   \n",
       "3      0.981043   1.028647   1.008662   1.006689   1.018437   1.009725   \n",
       "4      0.972989   1.028170   1.006355   1.009506   1.004984   1.012672   \n",
       "...         ...        ...        ...        ...        ...        ...   \n",
       "7556  36.354132   9.880051  52.309097  12.554089  15.519690  15.038956   \n",
       "7557  36.369268  10.012090  52.106450  12.481964  15.487086  15.101314   \n",
       "7558  36.402699  10.023108  52.062484  12.618843  15.374245  15.138096   \n",
       "7559  36.227659   9.994810  52.120488  12.533772  15.161519  15.084942   \n",
       "7560  36.044147  10.007179  52.852403  12.341133  15.144142  15.201420   \n",
       "\n",
       "           498       499  \n",
       "0     1.000000  1.000000  \n",
       "1     0.992757  1.005209  \n",
       "2     0.990587  1.003838  \n",
       "3     0.998621  1.001381  \n",
       "4     0.996404  0.999674  \n",
       "...        ...       ...  \n",
       "7556  9.668868  9.388238  \n",
       "7557  9.610603  9.408400  \n",
       "7558  9.587700  9.437655  \n",
       "7559  9.611645  9.471064  \n",
       "7560  9.589211  9.439250  \n",
       "\n",
       "[7561 rows x 500 columns]"
      ]
     },
     "execution_count": 18,
     "metadata": {},
     "output_type": "execute_result"
    }
   ],
   "source": [
    "# Running a Monte Carlo simulation to forecast 30 years cumulative returns\n",
    "MC_thirtyyear.calc_cumulative_return()"
   ]
  },
  {
   "cell_type": "code",
   "execution_count": 30,
   "metadata": {},
   "outputs": [
    {
     "data": {
      "image/png": "[encoded data removed]",
      "text/plain": [
       "<Figure size 432x288 with 1 Axes>"
      ]
     },
     "metadata": {
      "needs_background": "light"
     },
     "output_type": "display_data"
    }
   ],
   "source": [
    "# Plot simulation outcomes\n",
    "thirtyyear_lineplot=MC_thirtyyear.plot_simulation()"
   ]
  },
  {
   "cell_type": "code",
   "execution_count": 31,
   "metadata": {},
   "outputs": [
    {
     "data": {
      "image/png": "[encoded data removed]",
      "text/plain": [
       "<Figure size 432x288 with 1 Axes>"
      ]
     },
     "metadata": {
      "needs_background": "light"
     },
     "output_type": "display_data"
    }
   ],
   "source": [
    "# Plot probability distribution and confidence intervals\n",
    "thirtyyear_dist=MC_thirtyyear.plot_distribution()"
   ]
  },
  {
   "cell_type": "markdown",
   "metadata": {},
   "source": [
    "### Retirement Analysis"
   ]
  },
  {
   "cell_type": "code",
   "execution_count": 32,
   "metadata": {},
   "outputs": [
    {
     "name": "stdout",
     "output_type": "stream",
     "text": [
      "count           500.000000\n",
      "mean             21.605620\n",
      "std              13.650712\n",
      "min               1.927197\n",
      "25%              11.847550\n",
      "50%              17.447028\n",
      "75%              27.947808\n",
      "max              79.672327\n",
      "95% CI Lower      4.916295\n",
      "95% CI Upper     57.004180\n",
      "Name: 7560, dtype: float64\n"
     ]
    }
   ],
   "source": [
    "# Fetch summary statistics from the Monte Carlo simulation results\n",
    "thirtyyear_tbl=MC_thirtyyear.summarize_cumulative_return()\n",
    "\n",
    "# Print summary statistics\n",
    "print(thirtyyear_tbl)"
   ]
  },
  {
   "cell_type": "markdown",
   "metadata": {},
   "source": [
    "### Calculate the expected portfolio return at the 95% lower and upper confidence intervals based on a `$20,000` initial investment."
   ]
  },
  {
   "cell_type": "code",
   "execution_count": 34,
   "metadata": {},
   "outputs": [
    {
     "name": "stdout",
     "output_type": "stream",
     "text": [
      "There is a 95% chance that an initial investment of $20000 in the portfolio over the next 30 years will end within in the range of $98325.9 and $1140083.61\n"
     ]
    }
   ],
   "source": [
    "# Set initial investment\n",
    "initial_investment = 20000\n",
    "\n",
    "# Use the lower and upper `95%` confidence intervals to calculate the range of the possible outcomes of our $20,000\n",
    "ci_lower=round(thirtyyear_tbl[8]*initial_investment,2)\n",
    "ci_upper=round(thirtyyear_tbl[9]*initial_investment,2)\n",
    "\n",
    "# Print results\n",
    "print(f\"There is a 95% chance that an initial investment of ${initial_investment} in the portfolio\"\n",
    "      f\" over the next 30 years will end within in the range of\"\n",
    "      f\" ${ci_lower} and ${ci_upper}\")"
   ]
  },
  {
   "cell_type": "markdown",
   "metadata": {},
   "source": [
    "### Calculate the expected portfolio return at the `95%` lower and upper confidence intervals based on a `50%` increase in the initial investment."
   ]
  },
  {
   "cell_type": "code",
   "execution_count": 35,
   "metadata": {},
   "outputs": [
    {
     "name": "stdout",
     "output_type": "stream",
     "text": [
      "There is a 95% chance that an initial investment of $30000.0 in the portfolio over the next 30 years will end within in the range of $147488.84 and $1710125.41\n"
     ]
    }
   ],
   "source": [
    "# Set initial investment\n",
    "initial_investment = 20000 * 1.5\n",
    "\n",
    "# Use the lower and upper `95%` confidence intervals to calculate the range of the possible outcomes of our $30,000\n",
    "ci_lower=round(thirtyyear_tbl[8]*initial_investment,2)\n",
    "ci_upper=round(thirtyyear_tbl[9]*initial_investment,2)\n",
    "\n",
    "# Print results\n",
    "print(f\"There is a 95% chance that an initial investment of ${initial_investment} in the portfolio\"\n",
    "      f\" over the next 30 years will end within in the range of\"\n",
    "      f\" ${ci_lower} and ${ci_upper}\")"
   ]
  },
  {
   "cell_type": "markdown",
   "metadata": {},
   "source": [
    "## Optional Challenge - Early Retirement\n",
    "\n",
    "\n",
    "### Five Years Retirement Option"
   ]
  },
  {
   "cell_type": "code",
   "execution_count": null,
   "metadata": {},
   "outputs": [],
   "source": [
    "# Configuring a Monte Carlo simulation to forecast 5 years cumulative returns\n",
    "# YOUR CODE HERE!"
   ]
  },
  {
   "cell_type": "code",
   "execution_count": null,
   "metadata": {},
   "outputs": [],
   "source": [
    "# Running a Monte Carlo simulation to forecast 5 years cumulative returns\n",
    "# YOUR CODE HERE!"
   ]
  },
  {
   "cell_type": "code",
   "execution_count": null,
   "metadata": {},
   "outputs": [],
   "source": [
    "# Plot simulation outcomes\n",
    "# YOUR CODE HERE!"
   ]
  },
  {
   "cell_type": "code",
   "execution_count": null,
   "metadata": {},
   "outputs": [],
   "source": [
    "# Plot probability distribution and confidence intervals\n",
    "# YOUR CODE HERE!"
   ]
  },
  {
   "cell_type": "code",
   "execution_count": null,
   "metadata": {},
   "outputs": [],
   "source": [
    "# Fetch summary statistics from the Monte Carlo simulation results\n",
    "# YOUR CODE HERE!\n",
    "\n",
    "# Print summary statistics\n",
    "# YOUR CODE HERE!"
   ]
  },
  {
   "cell_type": "code",
   "execution_count": null,
   "metadata": {},
   "outputs": [],
   "source": [
    "# Set initial investment\n",
    "# YOUR CODE HERE!\n",
    "\n",
    "# Use the lower and upper `95%` confidence intervals to calculate the range of the possible outcomes of our $60,000\n",
    "# YOUR CODE HERE!\n",
    "\n",
    "# Print results\n",
    "print(f\"There is a 95% chance that an initial investment of ${initial_investment} in the portfolio\"\n",
    "      f\" over the next 5 years will end within in the range of\"\n",
    "      f\" ${ci_lower_five} and ${ci_upper_five}\")"
   ]
  },
  {
   "cell_type": "markdown",
   "metadata": {},
   "source": [
    "### Ten Years Retirement Option"
   ]
  },
  {
   "cell_type": "code",
   "execution_count": null,
   "metadata": {},
   "outputs": [],
   "source": [
    "# Configuring a Monte Carlo simulation to forecast 10 years cumulative returns\n",
    "# YOUR CODE HERE!"
   ]
  },
  {
   "cell_type": "code",
   "execution_count": null,
   "metadata": {},
   "outputs": [],
   "source": [
    "# Running a Monte Carlo simulation to forecast 10 years cumulative returns\n",
    "# YOUR CODE HERE!"
   ]
  },
  {
   "cell_type": "code",
   "execution_count": null,
   "metadata": {},
   "outputs": [],
   "source": [
    "# Plot simulation outcomes\n",
    "# YOUR CODE HERE!"
   ]
  },
  {
   "cell_type": "code",
   "execution_count": null,
   "metadata": {},
   "outputs": [],
   "source": [
    "# Plot probability distribution and confidence intervals\n",
    "# YOUR CODE HERE!"
   ]
  },
  {
   "cell_type": "code",
   "execution_count": null,
   "metadata": {},
   "outputs": [],
   "source": [
    "# Fetch summary statistics from the Monte Carlo simulation results\n",
    "# YOUR CODE HERE!\n",
    "\n",
    "# Print summary statistics\n",
    "# YOUR CODE HERE!"
   ]
  },
  {
   "cell_type": "code",
   "execution_count": null,
   "metadata": {},
   "outputs": [],
   "source": [
    "# Set initial investment\n",
    "# YOUR CODE HERE!\n",
    "\n",
    "# Use the lower and upper `95%` confidence intervals to calculate the range of the possible outcomes of our $60,000\n",
    "# YOUR CODE HERE!\n",
    "\n",
    "# Print results\n",
    "print(f\"There is a 95% chance that an initial investment of ${initial_investment} in the portfolio\"\n",
    "      f\" over the next 10 years will end within in the range of\"\n",
    "      f\" ${ci_lower_ten} and ${ci_upper_ten}\")"
   ]
  }
 ],
 "metadata": {
  "kernelspec": {
   "display_name": "Python 3",
   "language": "python",
   "name": "python3"
  },
  "language_info": {
   "codemirror_mode": {
    "name": "ipython",
    "version": 3
   },
   "file_extension": ".py",
   "mimetype": "text/x-python",
   "name": "python",
   "nbconvert_exporter": "python",
   "pygments_lexer": "ipython3",
   "version": "3.8.5"
  }
 },
 "nbformat": 4,
 "nbformat_minor": 4
}
